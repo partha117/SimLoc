{
 "cells": [
  {
   "cell_type": "code",
   "execution_count": 12,
   "id": "initial_id",
   "metadata": {
    "is_executing": true
   },
   "outputs": [],
   "source": [
    "import pandas as pd\n",
    "from datasets import Dataset, DatasetDict"
   ]
  },
  {
   "cell_type": "code",
   "execution_count": 2,
   "id": "5395ad7dc353c213",
   "metadata": {
    "collapsed": false,
    "jupyter": {
     "outputs_hidden": false
    }
   },
   "outputs": [],
   "source": [
    "path = \"../../Data/Raw/\" \n",
    "task = \"br_summarization_data/\""
   ]
  },
  {
   "cell_type": "code",
   "execution_count": 26,
   "id": "4045d141-1c97-4ea4-8433-21d0c3f291b5",
   "metadata": {},
   "outputs": [
    {
     "data": {
      "text/html": [
       "<div>\n",
       "<style scoped>\n",
       "    .dataframe tbody tr th:only-of-type {\n",
       "        vertical-align: middle;\n",
       "    }\n",
       "\n",
       "    .dataframe tbody tr th {\n",
       "        vertical-align: top;\n",
       "    }\n",
       "\n",
       "    .dataframe thead th {\n",
       "        text-align: right;\n",
       "    }\n",
       "</style>\n",
       "<table border=\"1\" class=\"dataframe\">\n",
       "  <thead>\n",
       "    <tr style=\"text-align: right;\">\n",
       "      <th></th>\n",
       "      <th>bug_id1</th>\n",
       "      <th>bug1</th>\n",
       "      <th>bug_id2</th>\n",
       "      <th>bug2</th>\n",
       "      <th>label</th>\n",
       "    </tr>\n",
       "  </thead>\n",
       "  <tbody>\n",
       "    <tr>\n",
       "      <th>0</th>\n",
       "      <td>51549</td>\n",
       "      <td>When I was to install the new version of the O...</td>\n",
       "      <td>52538</td>\n",
       "      <td>Just after starting the setup program, a dialo...</td>\n",
       "      <td>yes</td>\n",
       "    </tr>\n",
       "    <tr>\n",
       "      <th>1</th>\n",
       "      <td>37805</td>\n",
       "      <td>I can start simpress or swriter 1.9.62 via com...</td>\n",
       "      <td>37521</td>\n",
       "      <td>Files for OpenOffice.org 1.9.62 (oot and oos) ...</td>\n",
       "      <td>yes</td>\n",
       "    </tr>\n",
       "    <tr>\n",
       "      <th>2</th>\n",
       "      <td>88488</td>\n",
       "      <td>One feature I would like to see implemented in...</td>\n",
       "      <td>63653</td>\n",
       "      <td>If you change the page length or width to a la...</td>\n",
       "      <td>yes</td>\n",
       "    </tr>\n",
       "    <tr>\n",
       "      <th>3</th>\n",
       "      <td>495</td>\n",
       "      <td>There is no way of input localised characters ...</td>\n",
       "      <td>71373</td>\n",
       "      <td>Download and open the bugdoc.\\nChoose Reload f...</td>\n",
       "      <td>No</td>\n",
       "    </tr>\n",
       "    <tr>\n",
       "      <th>4</th>\n",
       "      <td>17628</td>\n",
       "      <td>Use the attached file and enter some charcters...</td>\n",
       "      <td>25764</td>\n",
       "      <td>I frequently copy articles from the web from I...</td>\n",
       "      <td>yes</td>\n",
       "    </tr>\n",
       "    <tr>\n",
       "      <th>...</th>\n",
       "      <td>...</td>\n",
       "      <td>...</td>\n",
       "      <td>...</td>\n",
       "      <td>...</td>\n",
       "      <td>...</td>\n",
       "    </tr>\n",
       "    <tr>\n",
       "      <th>122292</th>\n",
       "      <td>42937</td>\n",
       "      <td>Sorry for my bad English :-)\\n\\nWhen OpenOffic...</td>\n",
       "      <td>42564</td>\n",
       "      <td>load attached doc on Solaris or Linux\\n(Be pat...</td>\n",
       "      <td>yes</td>\n",
       "    </tr>\n",
       "    <tr>\n",
       "      <th>122293</th>\n",
       "      <td>13452</td>\n",
       "      <td>There seems to be a problem with the VLOOKUP f...</td>\n",
       "      <td>111325</td>\n",
       "      <td>Dear support,\\n\\nI'm very fond of this suite a...</td>\n",
       "      <td>No</td>\n",
       "    </tr>\n",
       "    <tr>\n",
       "      <th>122294</th>\n",
       "      <td>66941</td>\n",
       "      <td>since m169,\\nWhen saving an ods spreadsheet, O...</td>\n",
       "      <td>68197</td>\n",
       "      <td>Possibly related to: Issue 61386 which appears...</td>\n",
       "      <td>yes</td>\n",
       "    </tr>\n",
       "    <tr>\n",
       "      <th>122295</th>\n",
       "      <td>6008</td>\n",
       "      <td>When opening a document composed with Microsof...</td>\n",
       "      <td>17108</td>\n",
       "      <td>To simulate:\\n\\n1. New a Writer document\\n2. I...</td>\n",
       "      <td>yes</td>\n",
       "    </tr>\n",
       "    <tr>\n",
       "      <th>122296</th>\n",
       "      <td>5142</td>\n",
       "      <td>OpenOffice.org's wordprocessor unfortunately l...</td>\n",
       "      <td>12823</td>\n",
       "      <td>There is a problem in tables handling. This do...</td>\n",
       "      <td>yes</td>\n",
       "    </tr>\n",
       "  </tbody>\n",
       "</table>\n",
       "<p>122297 rows × 5 columns</p>\n",
       "</div>"
      ],
      "text/plain": [
       "        bug_id1                                               bug1  bug_id2  \\\n",
       "0         51549  When I was to install the new version of the O...    52538   \n",
       "1         37805  I can start simpress or swriter 1.9.62 via com...    37521   \n",
       "2         88488  One feature I would like to see implemented in...    63653   \n",
       "3           495  There is no way of input localised characters ...    71373   \n",
       "4         17628  Use the attached file and enter some charcters...    25764   \n",
       "...         ...                                                ...      ...   \n",
       "122292    42937  Sorry for my bad English :-)\\n\\nWhen OpenOffic...    42564   \n",
       "122293    13452  There seems to be a problem with the VLOOKUP f...   111325   \n",
       "122294    66941  since m169,\\nWhen saving an ods spreadsheet, O...    68197   \n",
       "122295     6008  When opening a document composed with Microsof...    17108   \n",
       "122296     5142  OpenOffice.org's wordprocessor unfortunately l...    12823   \n",
       "\n",
       "                                                     bug2 label  \n",
       "0       Just after starting the setup program, a dialo...   yes  \n",
       "1       Files for OpenOffice.org 1.9.62 (oot and oos) ...   yes  \n",
       "2       If you change the page length or width to a la...   yes  \n",
       "3       Download and open the bugdoc.\\nChoose Reload f...    No  \n",
       "4       I frequently copy articles from the web from I...   yes  \n",
       "...                                                   ...   ...  \n",
       "122292  load attached doc on Solaris or Linux\\n(Be pat...   yes  \n",
       "122293  Dear support,\\n\\nI'm very fond of this suite a...    No  \n",
       "122294  Possibly related to: Issue 61386 which appears...   yes  \n",
       "122295  To simulate:\\n\\n1. New a Writer document\\n2. I...   yes  \n",
       "122296  There is a problem in tables handling. This do...   yes  \n",
       "\n",
       "[122297 rows x 5 columns]"
      ]
     },
     "execution_count": 26,
     "metadata": {},
     "output_type": "execute_result"
    }
   ],
   "source": [
    "pd.read_csv(\"../../Data/Raw/dup_br_detection_data/dup_train.csv\")"
   ]
  },
  {
   "cell_type": "code",
   "execution_count": 24,
   "id": "4a5165ce-a41f-4a09-9752-e161aaa64176",
   "metadata": {},
   "outputs": [
    {
     "name": "stderr",
     "output_type": "stream",
     "text": [
      "Saving the dataset (1/1 shards): 100%|████████████████████████████████████████████████████████████████████████████████████| 220647/220647 [00:00<00:00, 837431.47 examples/s]\n",
      "Saving the dataset (1/1 shards): 100%|██████████████████████████████████████████████████████████████████████████████████████| 27496/27496 [00:00<00:00, 946137.42 examples/s]\n",
      "Saving the dataset (1/1 shards): 100%|██████████████████████████████████████████████████████████████████████████████████████| 27496/27496 [00:00<00:00, 645978.73 examples/s]\n",
      "Saving the dataset (1/1 shards): 100%|████████████████████████████████████████████████████████████████████████████████████| 122297/122297 [00:00<00:00, 858387.31 examples/s]\n",
      "Saving the dataset (1/1 shards): 100%|██████████████████████████████████████████████████████████████████████████████████████| 15288/15288 [00:00<00:00, 562957.25 examples/s]\n",
      "Saving the dataset (1/1 shards): 100%|██████████████████████████████████████████████████████████████████████████████████████| 15287/15287 [00:00<00:00, 542828.21 examples/s]\n",
      "Saving the dataset (1/1 shards): 100%|████████████████████████████████████████████████████████████████████████████████████| 176588/176588 [00:00<00:00, 784984.78 examples/s]\n",
      "Saving the dataset (1/1 shards): 100%|██████████████████████████████████████████████████████████████████████████████████████| 21909/21909 [00:00<00:00, 701601.87 examples/s]\n",
      "Saving the dataset (1/1 shards): 100%|██████████████████████████████████████████████████████████████████████████████████████| 21939/21939 [00:00<00:00, 681727.05 examples/s]\n",
      "Saving the dataset (1/1 shards): 100%|████████████████████████████████████████████████████████████████████████████████████| 123297/123297 [00:00<00:00, 730670.36 examples/s]\n",
      "Saving the dataset (1/1 shards): 100%|██████████████████████████████████████████████████████████████████████████████████████| 15510/15510 [00:00<00:00, 585620.52 examples/s]\n",
      "Saving the dataset (1/1 shards): 100%|██████████████████████████████████████████████████████████████████████████████████████| 15447/15447 [00:00<00:00, 538811.71 examples/s]\n"
     ]
    }
   ],
   "source": [
    "for task, prefix in [('br_summarization_data', 'sum'), ('dup_br_detection_data', 'dup'), ('priority_pred_data', 'priority'), ('severity_pred_data','severity')]:\n",
    "    dataset = DatasetDict()\n",
    "    for split in ['train', 'test', 'valid']:\n",
    "        df = pd.read_csv(path + task + f\"/{prefix}_{split}.csv\")\n",
    "        dataset[split] = Dataset.from_pandas(df)\n",
    "    dataset.save_to_disk(f\"../../Data/Processed/{task}\")"
   ]
  },
  {
   "cell_type": "code",
   "execution_count": 29,
   "id": "380d0177-cf65-46db-9df0-7b4b15584777",
   "metadata": {},
   "outputs": [],
   "source": [
    "bug_report_column = {\n",
    "    'br_summarization_data': ['input'],\n",
    "    'dup_br_detection_data':['bug1', 'bug2'],\n",
    "    'priority_pred_data': ['sentence1'],\n",
    "    'severity_pred_data':['sentence1']\n",
    "}\n",
    "bug_report_collection = set()\n",
    "for task, prefix in [('br_summarization_data', 'sum'), ('dup_br_detection_data', 'dup'), ('priority_pred_data', 'priority'), ('severity_pred_data','severity')]:\n",
    "    dataset = DatasetDict()\n",
    "    split = 'train'\n",
    "    df = pd.read_csv(path + task + f\"/{prefix}_{split}.csv\")\n",
    "    for column in bug_report_column[task]:\n",
    "        bug_report_collection.update(df[column].tolist())"
   ]
  },
  {
   "cell_type": "code",
   "execution_count": 35,
   "id": "90289120-6bec-4cac-89a1-852788d2ac71",
   "metadata": {},
   "outputs": [
    {
     "name": "stderr",
     "output_type": "stream",
     "text": [
      "Saving the dataset (2/2 shards): 100%|████████████████████████████████████████████████████████████████████████████████████| 511618/511618 [00:00<00:00, 953846.75 examples/s]\n"
     ]
    }
   ],
   "source": [
    "pre_train_dataset = Dataset.from_pandas(pd.DataFrame({\"bug_report\":list(bug_report_collection)}))\n",
    "pre_train_dataset.save_to_disk(f\"../../Data/Processed/only_report\")"
   ]
  }
 ],
 "metadata": {
  "kernelspec": {
   "display_name": "Python 3 (ipykernel)",
   "language": "python",
   "name": "python3"
  },
  "language_info": {
   "codemirror_mode": {
    "name": "ipython",
    "version": 3
   },
   "file_extension": ".py",
   "mimetype": "text/x-python",
   "name": "python",
   "nbconvert_exporter": "python",
   "pygments_lexer": "ipython3",
   "version": "3.10.11"
  }
 },
 "nbformat": 4,
 "nbformat_minor": 5
}
